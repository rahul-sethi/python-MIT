{
 "cells": [
  {
   "cell_type": "code",
   "execution_count": null,
   "metadata": {},
   "outputs": [],
   "source": [
    "# Problem 3\n",
    "\n",
    "# (15/15 points)\n",
    "# Assume s is a string of lower case characters.\n",
    "\n",
    "# Write a program that prints the longest substring of s in which the letters occur in alphabetical order. For example, if\n",
    "# s = 'azcbobobegghakl', then your program should print:\n",
    "# Longest substring in alphabetical order is: beggh\n",
    "\n",
    "# In the case of ties, print the first substring. For example, if s = 'abcbcd', then your program should print:\n",
    "# Longest substring in alphabetical order is: abc\n",
    "\n",
    "# Note: This problem may be challenging. We encourage you to work smart. If you've spent more than a few hours on this problem, we\n",
    "# suggest that you move on to a different part of the course. If you have time, come back to this problem after you've had a break and\n",
    "# cleared your head.\n",
    "\n",
    "\n",
    "# Paste your code into this box\n",
    "\n",
    "count = 0\n",
    "maxcount = 0\n",
    "result = 0\n",
    "\n",
    "for char in range(len(s) - 1):\n",
    "    if (s[char] <= s[char + 1]):\n",
    "        count += 1\n",
    "        if count > maxcount:\n",
    "            maxcount = count\n",
    "            result = char + 1\n",
    "    else:\n",
    "        count = 0\n",
    "startposition = result - maxcount\n",
    "print('Longest substring in alphabetical order is:', s[startposition:result + 1])\n",
    "\n",
    "# Correct"
   ]
  }
 ],
 "metadata": {
  "kernelspec": {
   "display_name": "Python 3",
   "language": "python",
   "name": "python3"
  },
  "language_info": {
   "codemirror_mode": {
    "name": "ipython",
    "version": 3
   },
   "file_extension": ".py",
   "mimetype": "text/x-python",
   "name": "python",
   "nbconvert_exporter": "python",
   "pygments_lexer": "ipython3",
   "version": "3.6.4"
  }
 },
 "nbformat": 4,
 "nbformat_minor": 2
}
