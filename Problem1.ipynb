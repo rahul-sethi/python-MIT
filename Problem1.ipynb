{
 "cells": [
  {
   "cell_type": "code",
   "execution_count": null,
   "metadata": {},
   "outputs": [],
   "source": [
    "# Problem 1\n",
    "# (10/10 points)\n",
    "# Assume s is a string of lower case characters.\n",
    "# Write a program that counts up the number of vowels contained in the string s. Valid vowels are: 'a', 'e', 'i', 'o', and 'u'.\n",
    "# For example, if s = 'azcbobobegghakl', your program should print:\n",
    "# Number of vowels: 5\n",
    "\n",
    "# Paste your code into this box\n",
    "counter = 0\n",
    "\n",
    "for i in s:\n",
    "    if i == 'a' or i == 'e' or i == 'i' or i == 'o' or i == 'u':\n",
    "        counter += 1\n",
    "\n",
    "print('Number of vowels:', counter)"
   ]
  }
 ],
 "metadata": {
  "kernelspec": {
   "display_name": "Python 3",
   "language": "python",
   "name": "python3"
  },
  "language_info": {
   "codemirror_mode": {
    "name": "ipython",
    "version": 3
   },
   "file_extension": ".py",
   "mimetype": "text/x-python",
   "name": "python",
   "nbconvert_exporter": "python",
   "pygments_lexer": "ipython3",
   "version": "3.6.4"
  }
 },
 "nbformat": 4,
 "nbformat_minor": 2
}
