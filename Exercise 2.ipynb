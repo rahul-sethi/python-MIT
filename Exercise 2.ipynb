{
 "cells": [
  {
   "cell_type": "code",
   "execution_count": 1,
   "metadata": {},
   "outputs": [
    {
     "name": "stdout",
     "output_type": "stream",
     "text": [
      "Hello!\n",
      "10\n",
      "8\n",
      "6\n",
      "4\n",
      "2\n"
     ]
    }
   ],
   "source": [
    "# Exercise: for exercise 2\n",
    "\n",
    "# (5/5 points)\n",
    "# ESTIMATED TIME TO COMPLETE: 5 minutes\n",
    "\n",
    "# 2. Convert the following code into code that uses a for loop.\n",
    "\n",
    "# prints \"Hello!\"\n",
    "# prints 10\n",
    "# prints 8\n",
    "# prints 6\n",
    "# prints 4\n",
    "# prints 2\n",
    "\n",
    "\n",
    "None\n",
    "\n",
    "print('Hello!')\n",
    "for i in range(10, 0, -2):\n",
    "    print(i)\n",
    "\n",
    "# Correct"
   ]
  }
 ],
 "metadata": {
  "kernelspec": {
   "display_name": "Python 3",
   "language": "python",
   "name": "python3"
  },
  "language_info": {
   "codemirror_mode": {
    "name": "ipython",
    "version": 3
   },
   "file_extension": ".py",
   "mimetype": "text/x-python",
   "name": "python",
   "nbconvert_exporter": "python",
   "pygments_lexer": "ipython3",
   "version": "3.6.4"
  }
 },
 "nbformat": 4,
 "nbformat_minor": 2
}
