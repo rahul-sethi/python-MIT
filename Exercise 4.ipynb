{
 "cells": [
  {
   "cell_type": "code",
   "execution_count": 2,
   "metadata": {},
   "outputs": [
    {
     "data": {
      "text/plain": [
       "'C:\\\\Users\\\\rahul'"
      ]
     },
     "execution_count": 2,
     "metadata": {},
     "output_type": "execute_result"
    }
   ],
   "source": [
    "# Exercise: happy\n",
    "\n",
    "# (5/5 points)\n",
    "# ESTIMATED TIME TO COMPLETE: 3 minutes\n",
    "\n",
    "# Write a piece of Python code that prints out the string 'hello world' if the value of an integer variable, happy, is strictly greater\n",
    "# than 2.\n",
    "\n",
    "None\n",
    "if happy > 2:\n",
    "    print('hello world')"
   ]
  }
 ],
 "metadata": {
  "kernelspec": {
   "display_name": "Python 3",
   "language": "python",
   "name": "python3"
  },
  "language_info": {
   "codemirror_mode": {
    "name": "ipython",
    "version": 3
   },
   "file_extension": ".py",
   "mimetype": "text/x-python",
   "name": "python",
   "nbconvert_exporter": "python",
   "pygments_lexer": "ipython3",
   "version": "3.6.4"
  }
 },
 "nbformat": 4,
 "nbformat_minor": 2
}
