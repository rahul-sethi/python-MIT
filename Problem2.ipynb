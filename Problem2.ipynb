{
 "cells": [
  {
   "cell_type": "code",
   "execution_count": null,
   "metadata": {},
   "outputs": [],
   "source": [
    "# Problem 2\n",
    "# (10/10 points)\n",
    "# Assume s is a string of lower case characters.\n",
    "# Write a program that prints the number of times the string 'bob' occurs in s. For example, if s = 'azcbobobegghakl', then your\n",
    "# program should print\n",
    "# Number of times bob occurs is: 2\n",
    "\n",
    "# Paste your code into this box\n",
    "counter = 0\n",
    "for i in range(len(s) - 2):\n",
    "    if s[i] == 'b' and s[i + 1] == 'o' and s[i + 2] == 'b':\n",
    "        counter += 1\n",
    "\n",
    "print ('Number of times bob occurs is:', counter)"
   ]
  }
 ],
 "metadata": {
  "kernelspec": {
   "display_name": "Python 3",
   "language": "python",
   "name": "python3"
  },
  "language_info": {
   "codemirror_mode": {
    "name": "ipython",
    "version": 3
   },
   "file_extension": ".py",
   "mimetype": "text/x-python",
   "name": "python",
   "nbconvert_exporter": "python",
   "pygments_lexer": "ipython3",
   "version": "3.6.4"
  }
 },
 "nbformat": 4,
 "nbformat_minor": 2
}
