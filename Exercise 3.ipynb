{
 "cells": [
  {
   "cell_type": "code",
   "execution_count": 1,
   "metadata": {},
   "outputs": [],
   "source": [
    "import os"
   ]
  },
  {
   "cell_type": "code",
   "execution_count": 9,
   "metadata": {},
   "outputs": [
    {
     "data": {
      "text/plain": [
       "'C:\\\\Users\\\\rahul\\\\Desktop\\\\Spring 2018\\\\practice'"
      ]
     },
     "execution_count": 9,
     "metadata": {},
     "output_type": "execute_result"
    }
   ],
   "source": [
    "os.chdir('C:\\\\Users\\\\rahul\\\\Desktop\\\\Spring 2018\\\\practice')\n",
    "os.getcwd()"
   ]
  },
  {
   "cell_type": "code",
   "execution_count": 11,
   "metadata": {},
   "outputs": [
    {
     "name": "stdout",
     "output_type": "stream",
     "text": [
      "21\n"
     ]
    }
   ],
   "source": [
    "# Exercise: for exercise 3\n",
    "\n",
    "# (5/5 points)\n",
    "# ESTIMATED TIME TO COMPLETE: 5 minutes\n",
    "\n",
    "# 3. Write a for loop that sums the values 1 through end, inclusive. end is a variable that we define for you. So, for example, if we\n",
    "# define end to be 6, your code should print out the result:\n",
    "# 21\n",
    "# which is 1 + 2 + 3 + 4 + 5 + 6.\n",
    "\n",
    "# For problems such as these, do not include input statements or define variables we will provide for you. Our automating testing will\n",
    "# provide values so write your code in the following box assuming these variables are already defined.\n",
    "\n",
    "\n",
    "None\n",
    "end =6\n",
    "\n",
    "total = 0\n",
    "for i in range(end+1):\n",
    "    total += i\n",
    "\n",
    "print(total)\n",
    "\n",
    "# Correct"
   ]
  }
 ],
 "metadata": {
  "kernelspec": {
   "display_name": "Python 3",
   "language": "python",
   "name": "python3"
  },
  "language_info": {
   "codemirror_mode": {
    "name": "ipython",
    "version": 3
   },
   "file_extension": ".py",
   "mimetype": "text/x-python",
   "name": "python",
   "nbconvert_exporter": "python",
   "pygments_lexer": "ipython3",
   "version": "3.6.4"
  }
 },
 "nbformat": 4,
 "nbformat_minor": 2
}
